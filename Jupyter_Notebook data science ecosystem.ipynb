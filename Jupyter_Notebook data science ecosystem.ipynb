{
 "cells": [
  {
   "cell_type": "markdown",
   "metadata": {
    "tags": []
   },
   "source": [
    "<center>\n",
    "    <img src=\"https://cf-courses-data.s3.us.cloud-object-storage.appdomain.cloud/IBMDeveloperSkillsNetwork-DS0105EN-SkillsNetwork/labs/Module2/images/SN_web_lightmode.png\" width=\"300\" alt=\"cognitiveclass.ai logo\">\n",
    "</center>\n"
   ]
  },
  {
   "cell_type": "markdown",
   "metadata": {
    "tags": []
   },
   "source": [
    "# My Jupiter Notebook on IBM Watson studio"
   ]
  },
  {
   "cell_type": "markdown",
   "metadata": {},
   "source": [
    "### *Introduction*\n",
    "In this Notebook data science tools and ecosystem are summarized "
   ]
  },
  {
   "cell_type": "markdown",
   "metadata": {},
   "source": [
    "## The following list shows some the most popular data science language \n",
    "<ul>\n",
    "    <li>Python</li>\n",
    "    <li>R</li>\n",
    "    <li>SQL</li>\n",
    "    <li>Scala</li>\n",
    "    <li>JavaScript</li>\n",
    "    <li>C++</li>\n",
    "    <li>Julia\n",
    "    <li>JavaScript\n",
    "    <li>PHP\n",
    "    <li>Go\n",
    "    <li>Ruby\n",
    "    <li>Visual Basic\n",
    "</ul>"
   ]
  },
  {
   "cell_type": "markdown",
   "metadata": {},
   "source": [
    "### Some of the commonly used libraries used by Data Scientists include:\n",
    "<ul>\n",
    "<li>Pandas</li>\n",
    "\n",
    "<li>Numpy</li>\n",
    "\n",
    "<li>Matplotlib</li>\n",
    "\n",
    "<li>Seaborn</li>\n",
    "\n",
    "<li>Scikit-learn</li>\n",
    "\n",
    "<li>Keras</li>\n",
    "\n",
    "<li>TensorFlow</li>\n",
    "\n",
    "<li>PyTorch</li>\n",
    "\n",
    "<li>Apache Spark</li>\n",
    "\n",
    "<li>Vegas</li>\n",
    "\n",
    "<li>Big DL</li>\n",
    "\n",
    "<li>Ggplot2</li>\n",
    "</ul>    "
   ]
  },
  {
   "cell_type": "markdown",
   "metadata": {},
   "source": [
    "### Data Science Tools\n",
    "<table>\n",
    "   <tr>\n",
    "      <th>Names</th>\n",
    "    </tr>\n",
    "      <tr>\n",
    "      <td>Jupiter notebook</tr>\n",
    "    <tr>\n",
    "      <td>R studio</td>\n",
    "    </tr>\n",
    "    <tr>\n",
    "      <td>Anaconda</td>\n",
    "    </tr>\n",
    "    <tr>\n",
    "      <td>Spyder</td>\n",
    "    </tr>\n",
    "    <tr>\n",
    "      <td>Zeppelin</td>\n",
    "    </tr>\n",
    "\n",
    "</table>"
   ]
  },
  {
   "cell_type": "markdown",
   "metadata": {},
   "source": [
    "### Bellow are an examples of  Arithmetic expressions addition and subtraction in Python\n",
    "\n",
    "2+2 =4 \n",
    "\n",
    "3-2 =1"
   ]
  },
  {
   "cell_type": "code",
   "execution_count": 1,
   "metadata": {},
   "outputs": [
    {
     "data": {
      "text/plain": [
       "9"
      ]
     },
     "execution_count": 1,
     "metadata": {},
     "output_type": "execute_result"
    }
   ],
   "source": [
    "### This cell illustrate a cell code to multiply and add numbers\n",
    "(2*4)+ 1"
   ]
  },
  {
   "cell_type": "code",
   "execution_count": 8,
   "metadata": {},
   "outputs": [
    {
     "data": {
      "text/plain": [
       "3"
      ]
     },
     "execution_count": 8,
     "metadata": {},
     "output_type": "execute_result"
    }
   ],
   "source": [
    "### This code cell shows how to convert 200 minutes to hours by diving it by 60 it gives us 3 hours\n",
    "\n",
    "200//60"
   ]
  },
  {
   "cell_type": "markdown",
   "metadata": {},
   "source": [
    "### Objectives\n",
    "\n",
    "<ul>\n",
    "    <li>create markdown cell</li>\n",
    "    <li>add comments to code cell</li>\n",
    "    <li>add ordered and unordered lists to markdown cells</li>\n",
    "    <li>format of markdown cells with heading styles</li>\n",
    "</ul>    "
   ]
  },
  {
   "cell_type": "markdown",
   "metadata": {},
   "source": [
    "## Author \n",
    "*Willy Ondo Meye*"
   ]
  },
  {
   "cell_type": "code",
   "execution_count": null,
   "metadata": {},
   "outputs": [],
   "source": []
  }
 ],
 "metadata": {
  "kernelspec": {
   "display_name": "Python",
   "language": "python",
   "name": "conda-env-python-py"
  },
  "language_info": {
   "codemirror_mode": {
    "name": "ipython",
    "version": 3
   },
   "file_extension": ".py",
   "mimetype": "text/x-python",
   "name": "python",
   "nbconvert_exporter": "python",
   "pygments_lexer": "ipython3",
   "version": "3.7.12"
  }
 },
 "nbformat": 4,
 "nbformat_minor": 4
}
